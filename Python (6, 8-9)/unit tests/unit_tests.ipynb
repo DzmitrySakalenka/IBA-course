{
 "cells": [
  {
   "cell_type": "code",
   "execution_count": 1,
   "id": "d6243c09",
   "metadata": {},
   "outputs": [],
   "source": [
    "import unittest"
   ]
  },
  {
   "cell_type": "code",
   "execution_count": 6,
   "id": "4e5971ec",
   "metadata": {},
   "outputs": [],
   "source": [
    "class testClass (unittest.TestCase):\n",
    "    def test_1 (self):\n",
    "        self.assertEqual('qwerty'.upper(), 'QWERTY')\n",
    "        \n",
    "    def test_2 (self):\n",
    "        self.assertTrue('QWERTY'.isupper())\n",
    "        self.assertFalse('qwerty'.isupper())\n",
    "        \n",
    "    def test_3 (self):\n",
    "        s = 'qwe rty uio asd fgh jkl'\n",
    "        with self.assertRaises(Exception):\n",
    "            s.split(10)\n",
    "        "
   ]
  },
  {
   "cell_type": "code",
   "execution_count": 7,
   "id": "71d3cdc8",
   "metadata": {},
   "outputs": [
    {
     "name": "stderr",
     "output_type": "stream",
     "text": [
      "...\n",
      "----------------------------------------------------------------------\n",
      "Ran 3 tests in 0.005s\n",
      "\n",
      "OK\n"
     ]
    }
   ],
   "source": [
    "if __name__ == '__main__':\n",
    "    unittest.main(argv=['first-arg-is-ignored'], exit=False)\n"
   ]
  },
  {
   "cell_type": "code",
   "execution_count": null,
   "id": "311d1318",
   "metadata": {},
   "outputs": [],
   "source": []
  }
 ],
 "metadata": {
  "kernelspec": {
   "display_name": "Python 3",
   "language": "python",
   "name": "python3"
  },
  "language_info": {
   "codemirror_mode": {
    "name": "ipython",
    "version": 3
   },
   "file_extension": ".py",
   "mimetype": "text/x-python",
   "name": "python",
   "nbconvert_exporter": "python",
   "pygments_lexer": "ipython3",
   "version": "3.9.2"
  }
 },
 "nbformat": 4,
 "nbformat_minor": 5
}

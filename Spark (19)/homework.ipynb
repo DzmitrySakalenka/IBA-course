{
 "cells": [
  {
   "cell_type": "code",
   "execution_count": null,
   "id": "f95a91a9",
   "metadata": {},
   "outputs": [],
   "source": [
    "from pyspark import SparkConf, SparkContext\n",
    "from pyspark.sql import SparkSession\n",
    "from datetime import datetime\n",
    "from pyspark.sql.functions import *"
   ]
  },
  {
   "cell_type": "code",
   "execution_count": 2,
   "id": "398fdbae",
   "metadata": {},
   "outputs": [],
   "source": [
    "spark = SparkSession.\\\n",
    "        builder.\\\n",
    "        appName(\"pyspark-notebook\").\\\n",
    "        master(\"spark://spark-master:7077\").\\\n",
    "        config(\"spark.executor.memory\", \"512m\").\\\n",
    "        getOrCreate()\n"
   ]
  },
  {
   "cell_type": "markdown",
   "id": "c81b099c",
   "metadata": {},
   "source": [
    "1) Прочитайте файл alerts.json"
   ]
  },
  {
   "cell_type": "code",
   "execution_count": 3,
   "id": "141709fa",
   "metadata": {},
   "outputs": [
    {
     "name": "stdout",
     "output_type": "stream",
     "text": [
      "+-----------+--------------------+-------------------+-------------------+--------------------+----------+\n",
      "|   alert_id|     entitled_assets|  event_source_type|         event_time|         instance_id|    serial|\n",
      "+-----------+--------------------+-------------------+-------------------+--------------------+----------+\n",
      "|ArbwAO2m4Oa|  [qnTrje2, WT87cRS]|healthchecker_alert|2019-06-07 20:50:41|ypJdMVE8XfRgbq8E2...|cyN-1QeXWm|\n",
      "|1AlMxb4jeZ8|[VrE3Mr8, Z0SBQ7L...|healthchecker_alert|2019-06-11 12:46:18|Aygpbf1YPEpvn1CQj...|Ei3-SNCq7e|\n",
      "|ArbwAO2m4Oa|           [MWg0cOi]|       expire_alert|2019-06-15 13:08:36|QcEbVRV6D5KCQsQ9L...|cyo-8FZaon|\n",
      "|KFto5Cml9aH|           [OawSMoe]|       expire_alert|2019-06-02 19:23:49|nTZsmuJWP39TgmoVG...|IfS-5Qrifc|\n",
      "|MlsUENcq3iO|[x8BcRNi, QCDZz5u...|         case_event|2019-06-13 23:45:41|tklUIehgbpBYLIvbo...|DXq-WmHlJj|\n",
      "|u6GnQ51znX6|[KIAO8jQ, RzWUoRl...|       expire_alert|2019-06-19 00:15:42|5qkV4UyYQ596ZrG4M...|bc8-5A2FiC|\n",
      "|jlcYc5PQ5u5|[Za1BpUf, 7lVpL0Q...|healthchecker_alert|2019-06-01 05:01:42|wJH4FoV9LbFQCvJrj...|c06-QvbHi8|\n",
      "|oIpXWTYPGOs|[yFnOS8v, r9RY2sq...|         case_event|2019-06-12 00:08:47|jEx38fGy7dJTQ9Gad...|n0m-gP8Smi|\n",
      "|O9zC9Tx6eJv|           [gllPqNY]|         case_event|2019-06-11 08:46:38|O8RCU305KiPu12mbm...|5y6-7asaXz|\n",
      "|P1GR3AvXGz6|[UJJ8I0y, frVixHs...|healthchecker_alert|2019-06-01 21:24:24|aZxQBeFQVejRmtWjl...|4gR-rmXGeF|\n",
      "|NPDIW6jGkH2|[XPNJjGz, EXUyVF4...|healthchecker_alert|2019-06-08 12:27:18|2y5LSXT38VDB8sRPp...|ATU-k1Jdk0|\n",
      "|ChPjT8d8BRX|           [ybGo8YS]|         case_event|2019-06-18 08:52:06|smtMLyJZIpZ9MIK3U...|8sR-QXaV8Y|\n",
      "|P1GR3AvXGz6|[cRh74vN, ZI1Nu0d...|       expire_alert|2019-06-21 04:44:49|GfY1CYISVSYSGvywb...|vXt-T6FEvo|\n",
      "|GoRkTU71sLp|[d2VrRsn, 1ik3GLH...|         case_event|2019-06-08 09:38:44|e12gObwAhX6B6bx8v...|Kyh-vX5VsZ|\n",
      "|05exWW0L1LJ|[OSWlI3D, aiie3db...|         case_event|2019-06-14 06:18:11|yIDSyULutu2KOq795...|mG6-5k6tsb|\n",
      "|kdg3hBfiwCk|           [xurYcs0]|       expire_alert|2019-06-25 13:49:32|5qK7ugxjXPfxZG7rF...|liG-74HUru|\n",
      "|ArbwAO2m4Oa|[LTY3oq1, tHdkDoV...|       expire_alert|2019-06-13 15:19:21|VOHpiM1Tjk82QVr6L...|149-9kj7VM|\n",
      "|qpzO9bDEXYB|           [v4nlC8l]|healthchecker_alert|2019-06-05 07:14:21|E0McVQeeX14L47ue9...|Pj5-93m5DW|\n",
      "|biXRQ1DEME2|           [SNmANVg]|       expire_alert|2019-06-17 10:45:21|f8hSO7mcikYS02F1Q...|nrl-fIrJu5|\n",
      "|gF33midLYxb|  [0xKJniD, hB6oKZD]|         case_event|2019-06-25 14:27:27|C9EIBjcbrChkbmwpw...|LNO-fmBvjk|\n",
      "+-----------+--------------------+-------------------+-------------------+--------------------+----------+\n",
      "only showing top 20 rows\n",
      "\n"
     ]
    }
   ],
   "source": [
    "df = spark.read.format('json').load('alerts.json')\n",
    "df.show()"
   ]
  },
  {
   "cell_type": "markdown",
   "id": "28eee295",
   "metadata": {},
   "source": [
    "2) Выведите схему"
   ]
  },
  {
   "cell_type": "code",
   "execution_count": 4,
   "id": "4337b85e",
   "metadata": {},
   "outputs": [
    {
     "name": "stdout",
     "output_type": "stream",
     "text": [
      "root\n",
      " |-- alert_id: string (nullable = true)\n",
      " |-- entitled_assets: array (nullable = true)\n",
      " |    |-- element: string (containsNull = true)\n",
      " |-- event_source_type: string (nullable = true)\n",
      " |-- event_time: string (nullable = true)\n",
      " |-- instance_id: string (nullable = true)\n",
      " |-- serial: string (nullable = true)\n",
      "\n"
     ]
    }
   ],
   "source": [
    "df.printSchema()"
   ]
  },
  {
   "cell_type": "markdown",
   "id": "609dbcf9",
   "metadata": {},
   "source": [
    "3) Выберите данные c 2019-06-10 по 2019-06-19. Дата и время хранятся в атрибуте event_time."
   ]
  },
  {
   "cell_type": "code",
   "execution_count": 5,
   "id": "2dd7cce4",
   "metadata": {},
   "outputs": [
    {
     "name": "stdout",
     "output_type": "stream",
     "text": [
      "+-----------+--------------------+-------------------+-------------------+--------------------+----------+\n",
      "|   alert_id|     entitled_assets|  event_source_type|         event_time|         instance_id|    serial|\n",
      "+-----------+--------------------+-------------------+-------------------+--------------------+----------+\n",
      "|1AlMxb4jeZ8|[VrE3Mr8, Z0SBQ7L...|healthchecker_alert|2019-06-11 12:46:18|Aygpbf1YPEpvn1CQj...|Ei3-SNCq7e|\n",
      "|ArbwAO2m4Oa|           [MWg0cOi]|       expire_alert|2019-06-15 13:08:36|QcEbVRV6D5KCQsQ9L...|cyo-8FZaon|\n",
      "|MlsUENcq3iO|[x8BcRNi, QCDZz5u...|         case_event|2019-06-13 23:45:41|tklUIehgbpBYLIvbo...|DXq-WmHlJj|\n",
      "|oIpXWTYPGOs|[yFnOS8v, r9RY2sq...|         case_event|2019-06-12 00:08:47|jEx38fGy7dJTQ9Gad...|n0m-gP8Smi|\n",
      "|O9zC9Tx6eJv|           [gllPqNY]|         case_event|2019-06-11 08:46:38|O8RCU305KiPu12mbm...|5y6-7asaXz|\n",
      "|ChPjT8d8BRX|           [ybGo8YS]|         case_event|2019-06-18 08:52:06|smtMLyJZIpZ9MIK3U...|8sR-QXaV8Y|\n",
      "|05exWW0L1LJ|[OSWlI3D, aiie3db...|         case_event|2019-06-14 06:18:11|yIDSyULutu2KOq795...|mG6-5k6tsb|\n",
      "|ArbwAO2m4Oa|[LTY3oq1, tHdkDoV...|       expire_alert|2019-06-13 15:19:21|VOHpiM1Tjk82QVr6L...|149-9kj7VM|\n",
      "|biXRQ1DEME2|           [SNmANVg]|       expire_alert|2019-06-17 10:45:21|f8hSO7mcikYS02F1Q...|nrl-fIrJu5|\n",
      "|oIpXWTYPGOs|  [6YaSkE7, eZj0nFj]|healthchecker_alert|2019-06-13 15:52:00|iYEqgyBhCEiyln10m...|7oC-nERLNr|\n",
      "|XTBrpBEIW2v|[O9aK1Rp, dj11St9...|healthchecker_alert|2019-06-15 19:31:46|ipTaSHDtk4uVRUQra...|MPe-eo4QyM|\n",
      "|9eWpr1cPXEE|[jYHGoRE, qFZBHOX...|healthchecker_alert|2019-06-18 16:46:09|1RhDsVckpfNrVeXbw...|2to-bdeDHk|\n",
      "|vEfvf9YFExi|[4vkVdAt, hAkVk3h...|       expire_alert|2019-06-13 20:05:00|jEqBDarybZg8E3K4Z...|fYg-28HQKq|\n",
      "|mEmTZVPrTJd|[NphC1wS, lBmbcwL...|healthchecker_alert|2019-06-15 15:23:07|O2lSEoEkxZcmxZCH5...|2sb-e558sZ|\n",
      "|qWytEuoODzH|[EydAG4k, nxEh1HU...|         case_event|2019-06-11 03:10:34|6oN3Yz1FHJJ0zPTNU...|Hc9-QW3GKe|\n",
      "|uTQimz0xfbI|           [LUsBITI]|       expire_alert|2019-06-13 14:46:13|emFQnChqkjRAWXein...|xmU-EsZyym|\n",
      "|Za6H30LVAdt|[dLaL0Q4, ErzNMfB...|       expire_alert|2019-06-15 06:54:27|shVrYSlfUge4ctrvf...|mmO-sPicRf|\n",
      "|czQwIHOzm03|[WbsKFGu, ekG3XXE...|healthchecker_alert|2019-06-12 01:10:03|eoSV6vRsEK0lrfQjd...|x23-uhxUOj|\n",
      "|eSh0VWspC3x|[q3cWLlp, RELlmbV...|         case_event|2019-06-13 01:40:49|UAb3xtVJFA7046gDP...|lNw-PdeHCF|\n",
      "|BxKRvWMrY6I|[DcVSAKy, AJDUVsf...|healthchecker_alert|2019-06-16 11:55:05|R78fLiC3uzvCGwRzV...|YAU-D9IQ4R|\n",
      "+-----------+--------------------+-------------------+-------------------+--------------------+----------+\n",
      "only showing top 20 rows\n",
      "\n"
     ]
    }
   ],
   "source": [
    "tmp_df = df.withColumn(\"event_time\", to_timestamp(df.event_time))\n",
    "task3 = tmp_df.filter(tmp_df.event_time >= lit(\"2019-06-10\")).filter(tmp_df.event_time < lit(\"2019-06-19\"))\n",
    "task3.show()"
   ]
  },
  {
   "cell_type": "markdown",
   "id": "608292e5",
   "metadata": {},
   "source": [
    "4) Выберите данные типа healthchecker_alert (атрибут event_source_type)"
   ]
  },
  {
   "cell_type": "code",
   "execution_count": 6,
   "id": "54fca863",
   "metadata": {},
   "outputs": [
    {
     "name": "stdout",
     "output_type": "stream",
     "text": [
      "+-----------+--------------------+-------------------+-------------------+--------------------+----------+\n",
      "|   alert_id|     entitled_assets|  event_source_type|         event_time|         instance_id|    serial|\n",
      "+-----------+--------------------+-------------------+-------------------+--------------------+----------+\n",
      "|1AlMxb4jeZ8|[VrE3Mr8, Z0SBQ7L...|healthchecker_alert|2019-06-11 12:46:18|Aygpbf1YPEpvn1CQj...|Ei3-SNCq7e|\n",
      "|oIpXWTYPGOs|  [6YaSkE7, eZj0nFj]|healthchecker_alert|2019-06-13 15:52:00|iYEqgyBhCEiyln10m...|7oC-nERLNr|\n",
      "|XTBrpBEIW2v|[O9aK1Rp, dj11St9...|healthchecker_alert|2019-06-15 19:31:46|ipTaSHDtk4uVRUQra...|MPe-eo4QyM|\n",
      "|9eWpr1cPXEE|[jYHGoRE, qFZBHOX...|healthchecker_alert|2019-06-18 16:46:09|1RhDsVckpfNrVeXbw...|2to-bdeDHk|\n",
      "|mEmTZVPrTJd|[NphC1wS, lBmbcwL...|healthchecker_alert|2019-06-15 15:23:07|O2lSEoEkxZcmxZCH5...|2sb-e558sZ|\n",
      "|czQwIHOzm03|[WbsKFGu, ekG3XXE...|healthchecker_alert|2019-06-12 01:10:03|eoSV6vRsEK0lrfQjd...|x23-uhxUOj|\n",
      "|BxKRvWMrY6I|[DcVSAKy, AJDUVsf...|healthchecker_alert|2019-06-16 11:55:05|R78fLiC3uzvCGwRzV...|YAU-D9IQ4R|\n",
      "|W03mt1Aibkm|  [SCfUdGg, kPKEeK5]|healthchecker_alert|2019-06-13 08:47:18|u08ixYoqrLHNOfZkW...|VC2-rzkPGR|\n",
      "|sHqLZ3ygoVI|[XXN7ndy, DcyUqKH...|healthchecker_alert|2019-06-10 19:18:53|xjyd8PywfehZA5tVG...|clU-HGOg9j|\n",
      "|Pbt9PMCguA6|[oTFIwfG, 4Y1YaLN...|healthchecker_alert|2019-06-16 21:54:12|OgZfRHOowrvYU0fwH...|1Zn-BmtXg8|\n",
      "|vliWc3PkkOJ|[IClkMK8, 6XSFoXM...|healthchecker_alert|2019-06-15 03:48:21|w8DFnQMsmvSRItCKy...|WES-YQrlKS|\n",
      "|YqxeNT2b1WJ|           [kPao2qc]|healthchecker_alert|2019-06-11 09:44:43|9JMrTtAi6StVb7c2y...|GyG-DDnIsH|\n",
      "|S2byDm68oNU|[gbVdL74, CGcQHu6...|healthchecker_alert|2019-06-16 17:55:37|GKoTIJmgrXQZ5AT2N...|kBk-mtRsfH|\n",
      "|h4MLSFigPQ4|[bcHeC1V, 7KYBeL0...|healthchecker_alert|2019-06-12 16:29:28|GH5wPe61NOpS4lMQQ...|AvB-wUW5pl|\n",
      "|O9zC9Tx6eJv|[5z2T9gK, cJnV1pr...|healthchecker_alert|2019-06-15 18:43:05|aw2gGDj1kfGkpFa9b...|wXf-DfaYaU|\n",
      "|1AlMxb4jeZ8|[1kAow2r, iBsp1Tm...|healthchecker_alert|2019-06-16 01:31:23|67kmSRLuqV5YMiDTQ...|je0-2R1B4N|\n",
      "|MT9HnkOcAUA|[35yMFZA, 4ssDy0H...|healthchecker_alert|2019-06-17 00:31:44|LtW8kqN46R8FNkGgr...|bFz-eFRxtl|\n",
      "|oQ9FOYI48SY|[t1Y7g6s, 6qyhsSr...|healthchecker_alert|2019-06-18 08:59:06|b2q8NGScHFhu3RG4O...|kXS-6q6IJB|\n",
      "|XhBrfwWdYgU|[jzOVqi2, 08eQJhb...|healthchecker_alert|2019-06-11 17:09:12|nS3G3YBEOYApGiTrb...|X8J-aUFAPn|\n",
      "|MT9HnkOcAUA|[LVfoG2r, N0cheY7...|healthchecker_alert|2019-06-10 03:38:31|ai4Kzi73j2o6O6gi1...|4Oy-U52NvV|\n",
      "+-----------+--------------------+-------------------+-------------------+--------------------+----------+\n",
      "only showing top 20 rows\n",
      "\n"
     ]
    }
   ],
   "source": [
    "task4 = task3.filter(df.event_source_type == \"healthchecker_alert\")\n",
    "task4.show()"
   ]
  },
  {
   "cell_type": "markdown",
   "id": "48df83da",
   "metadata": {},
   "source": [
    "5) Для каждого alert_id оставьте только первое по времени событие за каждый день."
   ]
  },
  {
   "cell_type": "code",
   "execution_count": 7,
   "id": "06b09aeb",
   "metadata": {},
   "outputs": [
    {
     "name": "stdout",
     "output_type": "stream",
     "text": [
      "+--------------------+-------------------+-------------------+--------------------+----------+-----------+\n",
      "|     entitled_assets|  event_source_type|         event_time|         instance_id|    serial|   alert_id|\n",
      "+--------------------+-------------------+-------------------+--------------------+----------+-----------+\n",
      "|[VrE3Mr8, Z0SBQ7L...|healthchecker_alert|2019-06-11 12:46:18|Aygpbf1YPEpvn1CQj...|Ei3-SNCq7e|1AlMxb4jeZ8|\n",
      "|[jYHGoRE, qFZBHOX...|healthchecker_alert|2019-06-18 16:46:09|1RhDsVckpfNrVeXbw...|2to-bdeDHk|9eWpr1cPXEE|\n",
      "|[WbsKFGu, ekG3XXE...|healthchecker_alert|2019-06-12 01:10:03|eoSV6vRsEK0lrfQjd...|x23-uhxUOj|czQwIHOzm03|\n",
      "|[DcVSAKy, AJDUVsf...|healthchecker_alert|2019-06-16 11:55:05|R78fLiC3uzvCGwRzV...|YAU-D9IQ4R|BxKRvWMrY6I|\n",
      "|[IClkMK8, 6XSFoXM...|healthchecker_alert|2019-06-15 03:48:21|w8DFnQMsmvSRItCKy...|WES-YQrlKS|vliWc3PkkOJ|\n",
      "|           [kPao2qc]|healthchecker_alert|2019-06-11 09:44:43|9JMrTtAi6StVb7c2y...|GyG-DDnIsH|YqxeNT2b1WJ|\n",
      "|[gbVdL74, CGcQHu6...|healthchecker_alert|2019-06-16 17:55:37|GKoTIJmgrXQZ5AT2N...|kBk-mtRsfH|S2byDm68oNU|\n",
      "|[5z2T9gK, cJnV1pr...|healthchecker_alert|2019-06-15 18:43:05|aw2gGDj1kfGkpFa9b...|wXf-DfaYaU|O9zC9Tx6eJv|\n",
      "|[1kAow2r, iBsp1Tm...|healthchecker_alert|2019-06-16 01:31:23|67kmSRLuqV5YMiDTQ...|je0-2R1B4N|1AlMxb4jeZ8|\n",
      "|[35yMFZA, 4ssDy0H...|healthchecker_alert|2019-06-17 00:31:44|LtW8kqN46R8FNkGgr...|bFz-eFRxtl|MT9HnkOcAUA|\n",
      "|[t1Y7g6s, 6qyhsSr...|healthchecker_alert|2019-06-18 08:59:06|b2q8NGScHFhu3RG4O...|kXS-6q6IJB|oQ9FOYI48SY|\n",
      "|[jzOVqi2, 08eQJhb...|healthchecker_alert|2019-06-11 17:09:12|nS3G3YBEOYApGiTrb...|X8J-aUFAPn|XhBrfwWdYgU|\n",
      "|[LVfoG2r, N0cheY7...|healthchecker_alert|2019-06-10 03:38:31|ai4Kzi73j2o6O6gi1...|4Oy-U52NvV|MT9HnkOcAUA|\n",
      "|[qRSHlOc, 6UvfMaY...|healthchecker_alert|2019-06-10 16:53:04|uoAIgVh2CskdRg6d0...|v0d-lZHim6|8x9rwGukOmB|\n",
      "|[6aMVSiH, H8vYSwJ...|healthchecker_alert|2019-06-10 00:33:47|DO9KZtljCDZQOETyi...|JVD-5MLVvE|VRYMEmmYp50|\n",
      "|[nAYSgge, HbFVDJL...|healthchecker_alert|2019-06-18 04:58:07|diz4BteuPkIIvMWOL...|i75-6IOqDp|qWytEuoODzH|\n",
      "|           [iZrnibd]|healthchecker_alert|2019-06-14 02:26:20|h72VxvD4KKAdjPng8...|QZC-fR6Ade|eyLiVKpbumX|\n",
      "|[tZyQHVb, ZCbjoqx...|healthchecker_alert|2019-06-14 12:15:44|T2sqqtkPNGFABBWz6...|Nqy-BMHnmp|0ZrX3rIidUB|\n",
      "|[Bhr66UK, mFdmsXc...|healthchecker_alert|2019-06-16 13:43:46|qJyMeKbd1eq4Nd4qo...|rOe-YrnFvZ|nU9qAdROmHP|\n",
      "|[WVNoxBa, t7sebPT...|healthchecker_alert|2019-06-18 10:22:15|EDwPHxIZMWOdDaVzU...|GeX-hsETtR|Za6H30LVAdt|\n",
      "+--------------------+-------------------+-------------------+--------------------+----------+-----------+\n",
      "only showing top 20 rows\n",
      "\n"
     ]
    }
   ],
   "source": [
    "tmp_df = task4.groupBy(\"alert_id\", to_date(\"event_time\").alias(\"date\")).agg(min(\"event_time\").alias(\"event_time_min\"))\n",
    "task5 = task4.drop(\"alert_id\").join(tmp_df, (tmp_df.event_time_min == task4.event_time), 'inner').drop('event_time_min', 'date')\n",
    "task5.show()"
   ]
  },
  {
   "cell_type": "markdown",
   "id": "79e895ba",
   "metadata": {},
   "source": [
    "6) В поле entitled_assets хранится массив данных. Размножьте каждую строку таким образом, чтобы в новой строке было одно значение из этого массива. "
   ]
  },
  {
   "cell_type": "code",
   "execution_count": 8,
   "id": "26b75995",
   "metadata": {},
   "outputs": [
    {
     "name": "stdout",
     "output_type": "stream",
     "text": [
      "+-----------+-------------------+--------+-------------------+--------------------+----------+\n",
      "|   alert_id|  event_source_type|asset_id|         event_time|         instance_id|    serial|\n",
      "+-----------+-------------------+--------+-------------------+--------------------+----------+\n",
      "|1AlMxb4jeZ8|healthchecker_alert| VrE3Mr8|2019-06-11 12:46:18|Aygpbf1YPEpvn1CQj...|Ei3-SNCq7e|\n",
      "|1AlMxb4jeZ8|healthchecker_alert| Z0SBQ7L|2019-06-11 12:46:18|Aygpbf1YPEpvn1CQj...|Ei3-SNCq7e|\n",
      "|1AlMxb4jeZ8|healthchecker_alert| aASolix|2019-06-11 12:46:18|Aygpbf1YPEpvn1CQj...|Ei3-SNCq7e|\n",
      "|9eWpr1cPXEE|healthchecker_alert| jYHGoRE|2019-06-18 16:46:09|1RhDsVckpfNrVeXbw...|2to-bdeDHk|\n",
      "|9eWpr1cPXEE|healthchecker_alert| qFZBHOX|2019-06-18 16:46:09|1RhDsVckpfNrVeXbw...|2to-bdeDHk|\n",
      "|9eWpr1cPXEE|healthchecker_alert| q5MY47C|2019-06-18 16:46:09|1RhDsVckpfNrVeXbw...|2to-bdeDHk|\n",
      "|9eWpr1cPXEE|healthchecker_alert| 8EmgEx0|2019-06-18 16:46:09|1RhDsVckpfNrVeXbw...|2to-bdeDHk|\n",
      "|czQwIHOzm03|healthchecker_alert| WbsKFGu|2019-06-12 01:10:03|eoSV6vRsEK0lrfQjd...|x23-uhxUOj|\n",
      "|czQwIHOzm03|healthchecker_alert| ekG3XXE|2019-06-12 01:10:03|eoSV6vRsEK0lrfQjd...|x23-uhxUOj|\n",
      "|czQwIHOzm03|healthchecker_alert| 5Lfu0Qv|2019-06-12 01:10:03|eoSV6vRsEK0lrfQjd...|x23-uhxUOj|\n",
      "|czQwIHOzm03|healthchecker_alert| a5aNkKA|2019-06-12 01:10:03|eoSV6vRsEK0lrfQjd...|x23-uhxUOj|\n",
      "|czQwIHOzm03|healthchecker_alert| CSc8s1k|2019-06-12 01:10:03|eoSV6vRsEK0lrfQjd...|x23-uhxUOj|\n",
      "|BxKRvWMrY6I|healthchecker_alert| DcVSAKy|2019-06-16 11:55:05|R78fLiC3uzvCGwRzV...|YAU-D9IQ4R|\n",
      "|BxKRvWMrY6I|healthchecker_alert| AJDUVsf|2019-06-16 11:55:05|R78fLiC3uzvCGwRzV...|YAU-D9IQ4R|\n",
      "|BxKRvWMrY6I|healthchecker_alert| koLwPSt|2019-06-16 11:55:05|R78fLiC3uzvCGwRzV...|YAU-D9IQ4R|\n",
      "|BxKRvWMrY6I|healthchecker_alert| OpQZ55E|2019-06-16 11:55:05|R78fLiC3uzvCGwRzV...|YAU-D9IQ4R|\n",
      "|BxKRvWMrY6I|healthchecker_alert| RrrOj6A|2019-06-16 11:55:05|R78fLiC3uzvCGwRzV...|YAU-D9IQ4R|\n",
      "|vliWc3PkkOJ|healthchecker_alert| IClkMK8|2019-06-15 03:48:21|w8DFnQMsmvSRItCKy...|WES-YQrlKS|\n",
      "|vliWc3PkkOJ|healthchecker_alert| 6XSFoXM|2019-06-15 03:48:21|w8DFnQMsmvSRItCKy...|WES-YQrlKS|\n",
      "|vliWc3PkkOJ|healthchecker_alert| dX1QzSp|2019-06-15 03:48:21|w8DFnQMsmvSRItCKy...|WES-YQrlKS|\n",
      "+-----------+-------------------+--------+-------------------+--------------------+----------+\n",
      "only showing top 20 rows\n",
      "\n"
     ]
    }
   ],
   "source": [
    "task6 = task5.select(task5.alert_id, task5.event_source_type, explode(task5.entitled_assets).alias('asset_id') , task5.event_time, task5.instance_id, task5.serial)\n",
    "task6.show()"
   ]
  },
  {
   "cell_type": "markdown",
   "id": "8387d4d4",
   "metadata": {},
   "source": [
    "7) Оставьте только следующие колонки: alert_id, event_time, date, asset_id. Получившийся датафрейм сохраните в формате csv. "
   ]
  },
  {
   "cell_type": "code",
   "execution_count": 9,
   "id": "7ab11fa1",
   "metadata": {},
   "outputs": [
    {
     "name": "stdout",
     "output_type": "stream",
     "text": [
      "+-----------+-------------------+----------+--------+\n",
      "|   alert_id|         event_time|      date|asset_id|\n",
      "+-----------+-------------------+----------+--------+\n",
      "|HttiH0rqiG4|2019-06-10 00:25:33|2019-06-10| qN24iyB|\n",
      "|HttiH0rqiG4|2019-06-10 00:25:33|2019-06-10| KKERafq|\n",
      "|HttiH0rqiG4|2019-06-10 00:25:33|2019-06-10| MMlFGvu|\n",
      "|XTBrpBEIW2v|2019-06-10 00:26:25|2019-06-10| SCXC3cX|\n",
      "|XTBrpBEIW2v|2019-06-10 00:26:25|2019-06-10| 6P6x5Ap|\n",
      "|XTBrpBEIW2v|2019-06-10 00:26:25|2019-06-10| pSGYvkI|\n",
      "|XTBrpBEIW2v|2019-06-10 00:26:25|2019-06-10| 4rDvwJ2|\n",
      "|XTBrpBEIW2v|2019-06-10 00:26:25|2019-06-10| S42ucE0|\n",
      "|VRYMEmmYp50|2019-06-10 00:33:47|2019-06-10| cSgmgGz|\n",
      "|VRYMEmmYp50|2019-06-10 00:33:47|2019-06-10| 6aMVSiH|\n",
      "|VRYMEmmYp50|2019-06-10 00:33:47|2019-06-10| H8vYSwJ|\n",
      "|VRYMEmmYp50|2019-06-10 00:33:47|2019-06-10| 3Z2st9i|\n",
      "|VRYMEmmYp50|2019-06-10 00:33:47|2019-06-10| Odgrajz|\n",
      "|YqxeNT2b1WJ|2019-06-10 00:53:26|2019-06-10| W23dmp5|\n",
      "|YqxeNT2b1WJ|2019-06-10 00:53:26|2019-06-10| PCKkjgY|\n",
      "|aGYNCmS1qwf|2019-06-10 01:00:43|2019-06-10| VgbKEy2|\n",
      "|aGYNCmS1qwf|2019-06-10 01:00:43|2019-06-10| xOuB7Mf|\n",
      "|uTQimz0xfbI|2019-06-10 01:01:53|2019-06-10| vZk0uPq|\n",
      "|Ph5RppQOrFa|2019-06-10 01:12:49|2019-06-10| frjRa3e|\n",
      "|Ph5RppQOrFa|2019-06-10 01:12:49|2019-06-10| rNzlC6y|\n",
      "+-----------+-------------------+----------+--------+\n",
      "only showing top 20 rows\n",
      "\n"
     ]
    }
   ],
   "source": [
    "task7 = task6.select(task6.alert_id, task6.event_time, to_date(task6.event_time).alias(\"date\"), task6.asset_id).sort(col(\"event_time\"))\n",
    "task7.show()"
   ]
  },
  {
   "cell_type": "code",
   "execution_count": 10,
   "id": "6d134922",
   "metadata": {},
   "outputs": [],
   "source": [
    "# task7.coalesce(1).write.csv('result.csv')\n",
    "task7.coalesce(1)\\\n",
    "     .write.format(\"com.databricks.spark.csv\")\\\n",
    "     .option(\"header\", \"true\")\\\n",
    "     .save(\"result.csv\")"
   ]
  },
  {
   "cell_type": "markdown",
   "id": "0c04c718",
   "metadata": {},
   "source": [
    "8*) Проделайте те же преобразования с помощью sql-запроса и метода .sql()"
   ]
  },
  {
   "cell_type": "code",
   "execution_count": 11,
   "id": "a10d4615",
   "metadata": {},
   "outputs": [],
   "source": [
    "spark.stop()"
   ]
  },
  {
   "cell_type": "code",
   "execution_count": null,
   "id": "482fb2dc",
   "metadata": {},
   "outputs": [],
   "source": []
  }
 ],
 "metadata": {
  "kernelspec": {
   "display_name": "Python 3",
   "language": "python",
   "name": "python3"
  },
  "language_info": {
   "codemirror_mode": {
    "name": "ipython",
    "version": 3
   },
   "file_extension": ".py",
   "mimetype": "text/x-python",
   "name": "python",
   "nbconvert_exporter": "python",
   "pygments_lexer": "ipython3",
   "version": "3.7.3"
  }
 },
 "nbformat": 4,
 "nbformat_minor": 5
}
